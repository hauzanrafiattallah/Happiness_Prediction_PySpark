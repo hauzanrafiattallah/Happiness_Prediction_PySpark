{
  "nbformat": 4,
  "nbformat_minor": 0,
  "metadata": {
    "colab": {
      "provenance": [],
      "collapsed_sections": [
        "L04P7UNoVkB-"
      ]
    },
    "kernelspec": {
      "name": "python3",
      "display_name": "Python 3"
    },
    "language_info": {
      "name": "python"
    }
  },
  "cells": [
    {
      "cell_type": "markdown",
      "source": [
        "##Import Library"
      ],
      "metadata": {
        "id": "L04P7UNoVkB-"
      }
    },
    {
      "cell_type": "code",
      "execution_count": 109,
      "metadata": {
        "id": "LEIAC6dUVZud"
      },
      "outputs": [],
      "source": [
        "from pyspark.sql import SparkSession\n",
        "from pyspark.sql.functions import *\n",
        "from pyspark.ml.feature import *\n",
        "from pyspark.ml import *\n",
        "from pyspark.ml.classification import *\n",
        "from pyspark.ml.evaluation import *\n",
        "from pyspark.ml.tuning import *\n",
        "from sklearn.metrics import *\n",
        "import matplotlib.pyplot as plt"
      ]
    },
    {
      "cell_type": "markdown",
      "source": [
        "##Eksplorasi Dataset"
      ],
      "metadata": {
        "id": "dfIM_T3PVnBo"
      }
    },
    {
      "cell_type": "code",
      "source": [
        "# Membuat SparkSession\n",
        "spark = SparkSession.builder.appName(\"HappinessClassification\").getOrCreate()\n",
        "\n",
        "# Memuat Dataset\n",
        "file_path = \"/content/2019.csv\"\n",
        "data = spark.read.csv(file_path, header=True, inferSchema=True)\n",
        "\n",
        "# Eksplorasi Dataset\n",
        "data.show(5)\n",
        "jumlah_negara = data.select(\"Country or region\").distinct().count() # Jumlah Negara\n",
        "print(f\"Jumlah Negara: {jumlah_negara}\")\n",
        "data.select(avg(\"Score\")).show() # Rata-Rata Skor Kebahagiaan"
      ],
      "metadata": {
        "colab": {
          "base_uri": "https://localhost:8080/"
        },
        "id": "RmjCix2EVbsI",
        "outputId": "dde2631c-1240-4ef1-f1ce-4929f378cff9"
      },
      "execution_count": 110,
      "outputs": [
        {
          "output_type": "stream",
          "name": "stdout",
          "text": [
            "+------------+-----------------+-----+--------------+--------------+-----------------------+----------------------------+----------+-------------------------+\n",
            "|Overall rank|Country or region|Score|GDP per capita|Social support|Healthy life expectancy|Freedom to make life choices|Generosity|Perceptions of corruption|\n",
            "+------------+-----------------+-----+--------------+--------------+-----------------------+----------------------------+----------+-------------------------+\n",
            "|           1|          Finland|7.769|          1.34|         1.587|                  0.986|                       0.596|     0.153|                    0.393|\n",
            "|           2|          Denmark|  7.6|         1.383|         1.573|                  0.996|                       0.592|     0.252|                     0.41|\n",
            "|           3|           Norway|7.554|         1.488|         1.582|                  1.028|                       0.603|     0.271|                    0.341|\n",
            "|           4|          Iceland|7.494|          1.38|         1.624|                  1.026|                       0.591|     0.354|                    0.118|\n",
            "|           5|      Netherlands|7.488|         1.396|         1.522|                  0.999|                       0.557|     0.322|                    0.298|\n",
            "+------------+-----------------+-----+--------------+--------------+-----------------------+----------------------------+----------+-------------------------+\n",
            "only showing top 5 rows\n",
            "\n",
            "Jumlah Negara: 156\n",
            "+-----------------+\n",
            "|       avg(Score)|\n",
            "+-----------------+\n",
            "|5.407096153846153|\n",
            "+-----------------+\n",
            "\n"
          ]
        }
      ]
    },
    {
      "cell_type": "markdown",
      "source": [
        "## Kategori Tingkat Kebahagiaan"
      ],
      "metadata": {
        "id": "LM6md159Vsts"
      }
    },
    {
      "cell_type": "code",
      "source": [
        "# Menambahkan kolom Hapiness_Level\n",
        "data = data.withColumn(\n",
        "    \"Happiness_Level\",\n",
        "    when(data[\"Score\"] < 4, \"Low\")\n",
        "    .when((data[\"Score\"] >= 4) & (data[\"Score\"] < 6), \"Medium\")\n",
        "    .otherwise(\"High\")\n",
        ")\n",
        "\n",
        "\n",
        "# Verifikasi distribusi kategori\n",
        "data.groupBy(\"Happiness_Level\").count().show()"
      ],
      "metadata": {
        "colab": {
          "base_uri": "https://localhost:8080/"
        },
        "id": "2DauTMPDVdTg",
        "outputId": "0c86978a-c211-4ac9-9a4c-ddae73c21827"
      },
      "execution_count": 111,
      "outputs": [
        {
          "output_type": "stream",
          "name": "stdout",
          "text": [
            "+---------------+-----+\n",
            "|Happiness_Level|count|\n",
            "+---------------+-----+\n",
            "|           High|   52|\n",
            "|            Low|   16|\n",
            "|         Medium|   88|\n",
            "+---------------+-----+\n",
            "\n"
          ]
        }
      ]
    },
    {
      "cell_type": "markdown",
      "source": [
        "## Pra-Pemrosesan Data"
      ],
      "metadata": {
        "id": "QW2cD6xeVzGl"
      }
    },
    {
      "cell_type": "code",
      "source": [
        "# Konversi Happiness_Level menjadi numerik\n",
        "indexer = StringIndexer(inputCol=\"Happiness_Level\", outputCol=\"Happiness_Level_Index\")\n",
        "indexer_model = indexer.fit(data)  # Simpan model setelah fit\n",
        "data = indexer_model.transform(data)\n",
        "\n",
        "# Ambil label dari indexer_model\n",
        "labels = indexer_model.labels\n",
        "\n",
        "# Gabungkan semua fitur numerik\n",
        "feature_cols = [\n",
        "    \"GDP per capita\",\n",
        "    \"Social support\",\n",
        "    \"Healthy life expectancy\",\n",
        "    \"Freedom to make life choices\",\n",
        "    \"Generosity\",\n",
        "    \"Perceptions of corruption\",\n",
        "]\n",
        "assembler = VectorAssembler(inputCols=feature_cols, outputCol=\"features\")\n",
        "data = assembler.transform(data)\n",
        "\n",
        "# Standarisasi data\n",
        "scaler = StandardScaler(inputCol=\"features\", outputCol=\"scaled_features\")\n",
        "data = scaler.fit(data).transform(data)"
      ],
      "metadata": {
        "id": "jHnLbFP6VhE6"
      },
      "execution_count": 112,
      "outputs": []
    },
    {
      "cell_type": "markdown",
      "source": [
        "## Model Machine Learning"
      ],
      "metadata": {
        "id": "wI4iqkiyWwdr"
      }
    },
    {
      "cell_type": "markdown",
      "source": [
        "## Random Forest"
      ],
      "metadata": {
        "id": "dZ6slb1ajFbj"
      }
    },
    {
      "cell_type": "code",
      "source": [
        "# Random Forest Classifier\n",
        "rf = RandomForestClassifier(featuresCol=\"scaled_features\", labelCol=\"Happiness_Level_Index\")\n",
        "\n",
        "# Pipeline Random Forest\n",
        "rf_pipeline = Pipeline(stages=[rf])\n",
        "rf_model = rf_pipeline.fit(data)\n",
        "\n",
        "# Evaluasi model\n",
        "evaluator = MulticlassClassificationEvaluator(labelCol=\"Happiness_Level_Index\", metricName=\"accuracy\")\n",
        "\n",
        "rf_accuracy = evaluator.evaluate(rf_model.transform(data))\n",
        "\n",
        "print(f\"Random Forest Accuracy: {rf_accuracy}\")"
      ],
      "metadata": {
        "colab": {
          "base_uri": "https://localhost:8080/"
        },
        "id": "M2yWR74sWy56",
        "outputId": "a5a808c9-ece9-41f2-bf19-d95dd5890270"
      },
      "execution_count": 113,
      "outputs": [
        {
          "output_type": "stream",
          "name": "stdout",
          "text": [
            "Random Forest Accuracy: 0.9166666666666666\n"
          ]
        }
      ]
    },
    {
      "cell_type": "markdown",
      "source": [
        "## Optimasi Hyperparameter"
      ],
      "metadata": {
        "id": "c_G_0dE6bRKB"
      }
    },
    {
      "cell_type": "markdown",
      "source": [
        "## Random Forest"
      ],
      "metadata": {
        "id": "Dx_3OTvcjHlA"
      }
    },
    {
      "cell_type": "code",
      "source": [
        "# Grid search untuk Random Forest\n",
        "paramGrid = ParamGridBuilder()\\\n",
        "    .addGrid(rf.numTrees, [10, 20, 50])\\\n",
        "    .addGrid(rf.maxDepth, [5, 10, 15])\\\n",
        "    .build()\n",
        "\n",
        "cv = CrossValidator(\n",
        "    estimator=rf_pipeline,\n",
        "    estimatorParamMaps=paramGrid,\n",
        "    evaluator=evaluator,\n",
        "    numFolds=5,\n",
        ")\n",
        "\n",
        "cv_model = cv.fit(data)\n",
        "best_model = cv_model.bestModel\n",
        "accuracy = evaluator.evaluate(best_model.transform(data))\n",
        "\n",
        "print(f\"Optimized Random Forest Accuracy: {accuracy}\")"
      ],
      "metadata": {
        "colab": {
          "base_uri": "https://localhost:8080/"
        },
        "id": "k5R9g7Y5bONP",
        "outputId": "a170faf4-a3bc-4d34-8e57-c0b33959d76f"
      },
      "execution_count": 114,
      "outputs": [
        {
          "output_type": "stream",
          "name": "stdout",
          "text": [
            "Optimized Random Forest Accuracy: 0.9935897435897436\n"
          ]
        }
      ]
    },
    {
      "cell_type": "markdown",
      "source": [
        "## Interpretasi Hasil"
      ],
      "metadata": {
        "id": "F3yO_nwfdQq-"
      }
    },
    {
      "cell_type": "markdown",
      "source": [
        "## Random Forest (Best Model Accuracy)"
      ],
      "metadata": {
        "id": "zwN4j1RvloXP"
      }
    },
    {
      "cell_type": "code",
      "source": [
        "# Model prediksi\n",
        "predictions = best_model.transform(data)\n",
        "y_true = predictions.select(\"Happiness_Level_Index\").toPandas()\n",
        "y_pred = predictions.select(\"prediction\").toPandas()\n",
        "\n",
        "# Confusion matrix\n",
        "cm = confusion_matrix(y_true, y_pred)\n",
        "disp = ConfusionMatrixDisplay(confusion_matrix=cm, display_labels=labels)\n",
        "disp.plot()\n",
        "\n",
        "plt.show()"
      ],
      "metadata": {
        "colab": {
          "base_uri": "https://localhost:8080/",
          "height": 449
        },
        "id": "8dVeIqM6dMMw",
        "outputId": "bbed7006-0979-4707-dd47-6ee3d6ba7ea2"
      },
      "execution_count": 115,
      "outputs": [
        {
          "output_type": "display_data",
          "data": {
            "text/plain": [
              "<Figure size 640x480 with 2 Axes>"
            ],
            "image/png": "[encoded data removed]"
          },
          "metadata": {}
        }
      ]
    }
  ]
}